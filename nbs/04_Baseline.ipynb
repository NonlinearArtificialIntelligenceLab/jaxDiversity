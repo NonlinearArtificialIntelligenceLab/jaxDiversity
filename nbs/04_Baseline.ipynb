{
 "cells": [
  {
   "cell_type": "code",
   "execution_count": null,
   "metadata": {},
   "outputs": [
    {
     "name": "stdout",
     "output_type": "stream",
     "text": [
      "env: XLA_PYTHON_CLIENT_ALLOCATOR=platform\n"
     ]
    }
   ],
   "source": [
    "%load_ext autoreload\n",
    "%reload_ext autoreload\n",
    "%env XLA_PYTHON_CLIENT_ALLOCATOR=platform\n"
   ]
  },
  {
   "attachments": {},
   "cell_type": "markdown",
   "metadata": {},
   "source": [
    "# baseline mlp\n",
    "\n",
    "> Conventional fully connected neural network for metalearning trajectory prediction."
   ]
  },
  {
   "cell_type": "code",
   "execution_count": null,
   "metadata": {},
   "outputs": [],
   "source": [
    "#| default_exp baseline"
   ]
  },
  {
   "cell_type": "code",
   "execution_count": null,
   "metadata": {},
   "outputs": [],
   "source": [
    "#| hide\n",
    "import nbdev\n",
    "from fastcore.test import test_eq"
   ]
  },
  {
   "cell_type": "code",
   "execution_count": null,
   "metadata": {},
   "outputs": [],
   "source": [
    "#| export\n",
    "import jax\n",
    "import jax.numpy as jnp\n",
    "import equinox as eqx\n"
   ]
  },
  {
   "cell_type": "code",
   "execution_count": null,
   "metadata": {},
   "outputs": [],
   "source": [
    "\n",
    "from jaxDiversity.mlp import MultiActMLP, deterministic_init, init_linear_weight"
   ]
  },
  {
   "cell_type": "code",
   "execution_count": null,
   "metadata": {},
   "outputs": [],
   "source": [
    "#| export\n",
    "@eqx.filter_value_and_grad()\n",
    "def compute_loss(model, x, y, afuncs):\n",
    "    \"\"\"Compute the l2 loss of the model on the given data.\"\"\"\n",
    "    pred_y, _ = jax.vmap(model, in_axes=(0, None))(x, afuncs) # batched predictions\n",
    "    loss = jnp.mean((pred_y - y)**2)\n",
    "    return loss"
   ]
  },
  {
   "cell_type": "code",
   "execution_count": null,
   "metadata": {},
   "outputs": [],
   "source": [
    "#| test\n",
    "# test compute_loss\n",
    "key = jax.random.PRNGKey(0)\n",
    "model_key, init_key = jax.random.split(key)\n",
    "x = jnp.ones((5, 4))\n",
    "\n",
    "model = MultiActMLP(4, 2, [18], model_key, bias=False)\n",
    "model = init_linear_weight(model, deterministic_init, init_key)\n",
    "y = jnp.ones((5, 2))\n",
    "\n",
    "afuncs = [lambda x: 0, lambda x: 0]\n",
    "\n",
    "loss, grad = compute_loss(model, x, y, afuncs)\n",
    "test_eq(loss, 1)\n"
   ]
  },
  {
   "cell_type": "code",
   "execution_count": null,
   "metadata": {},
   "outputs": [],
   "source": [
    "#| hide\n",
    "nbdev.nbdev_export()"
   ]
  }
 ],
 "metadata": {
  "kernelspec": {
   "display_name": "python3",
   "language": "python",
   "name": "python3"
  }
 },
 "nbformat": 4,
 "nbformat_minor": 4
}
