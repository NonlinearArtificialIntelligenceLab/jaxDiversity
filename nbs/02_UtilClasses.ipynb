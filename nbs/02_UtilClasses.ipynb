{
 "cells": [
  {
   "cell_type": "markdown",
   "metadata": {},
   "source": [
    "# Util classes\n",
    "\n",
    "> simple dataclasses for dataflow management"
   ]
  },
  {
   "cell_type": "code",
   "execution_count": null,
   "metadata": {},
   "outputs": [],
   "source": [
    "#| default_exp utilclasses"
   ]
  },
  {
   "cell_type": "code",
   "execution_count": null,
   "metadata": {},
   "outputs": [],
   "source": [
    "#| hide\n",
    "from nbdev.showdoc import *"
   ]
  },
  {
   "cell_type": "code",
   "execution_count": null,
   "metadata": {},
   "outputs": [],
   "source": [
    "#| export\n",
    "from dataclasses import dataclass"
   ]
  },
  {
   "cell_type": "code",
   "execution_count": null,
   "metadata": {},
   "outputs": [],
   "source": [
    "#| export\n",
    "@dataclass\n",
    "class InnerConfig:\n",
    "    test_train_split: float\n",
    "    input_dim: int\n",
    "    output_dim: int\n",
    "    hidden_layer_sizes: list\n",
    "    batch_size: int\n",
    "    epochs: int\n",
    "    lr: float\n",
    "    mu: float\n",
    "    n_fns: int\n",
    "    l2_reg: float\n",
    "    seed: int\n",
    "    base_act: str = 'sin'\n"
   ]
  },
  {
   "cell_type": "code",
   "execution_count": null,
   "metadata": {},
   "outputs": [],
   "source": [
    "#| export\n",
    "@dataclass\n",
    "class OuterConfig:\n",
    "    input_dim: int\n",
    "    output_dim: int\n",
    "    hidden_layer_sizes: list\n",
    "    batch_size: int\n",
    "    steps: int\n",
    "    print_every: int\n",
    "    lr: float\n",
    "    mu: float\n",
    "    seed: int"
   ]
  },
  {
   "cell_type": "code",
   "execution_count": null,
   "metadata": {},
   "outputs": [],
   "source": [
    "#| export\n",
    "@dataclass\n",
    "class InnerResults:\n",
    "    \"\"\"\n",
    "    dataclass to store inner loop results\n",
    "    \"\"\"\n",
    "    train_loss: list\n",
    "    test_loss: list\n",
    "    grad_norm: list\n"
   ]
  },
  {
   "cell_type": "code",
   "execution_count": null,
   "metadata": {},
   "outputs": [],
   "source": [
    "#| export\n",
    "@dataclass\n",
    "class OuterResults:\n",
    "    \"\"\"\n",
    "    dataclass to store outer loop results\n",
    "    \"\"\"\n",
    "    inner_test_loss: list\n",
    "    train_loss: list\n",
    "    inner_afuncs: list\n",
    "    grad_norm: list\n"
   ]
  },
  {
   "cell_type": "code",
   "execution_count": null,
   "metadata": {},
   "outputs": [],
   "source": [
    "#| hide\n",
    "import nbdev; nbdev.nbdev_export()"
   ]
  }
 ],
 "metadata": {
  "kernelspec": {
   "display_name": "python3",
   "language": "python",
   "name": "python3"
  }
 },
 "nbformat": 4,
 "nbformat_minor": 4
}
