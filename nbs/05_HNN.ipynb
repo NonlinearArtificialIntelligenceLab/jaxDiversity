{
 "cells": [
  {
   "cell_type": "code",
   "execution_count": null,
   "metadata": {},
   "outputs": [
    {
     "name": "stdout",
     "output_type": "stream",
     "text": [
      "env: XLA_PYTHON_CLIENT_ALLOCATOR=platform\n"
     ]
    }
   ],
   "source": [
    "%load_ext autoreload\n",
    "%reload_ext autoreload\n",
    "%env XLA_PYTHON_CLIENT_ALLOCATOR=platform"
   ]
  },
  {
   "attachments": {},
   "cell_type": "markdown",
   "metadata": {},
   "source": [
    "# Hamiltonian Neural Network\n",
    "> Hamiltonian neural network for metalearning trajectory prediction."
   ]
  },
  {
   "cell_type": "code",
   "execution_count": null,
   "metadata": {},
   "outputs": [],
   "source": [
    "# | default_exp hnn"
   ]
  },
  {
   "cell_type": "code",
   "execution_count": null,
   "metadata": {},
   "outputs": [],
   "source": [
    "# | hide\n",
    "import nbdev\n",
    "from fastcore.test import test_eq\n",
    "from nbdev.showdoc import *"
   ]
  },
  {
   "cell_type": "code",
   "execution_count": null,
   "metadata": {},
   "outputs": [],
   "source": [
    "# | export\n",
    "import jax\n",
    "import jax.numpy as jnp\n",
    "import equinox as eqx"
   ]
  },
  {
   "cell_type": "code",
   "execution_count": null,
   "metadata": {},
   "outputs": [],
   "source": [
    "# | export\n",
    "from jaxDiversity.mlp import MultiActMLP, deterministic_init, init_linear_weight"
   ]
  },
  {
   "cell_type": "code",
   "execution_count": null,
   "metadata": {},
   "outputs": [],
   "source": [
    "# | export\n",
    "def hamiltonian_factory(model, afuncs):\n",
    "    \"\"\"Returns a function that computes the Hamiltonian of a given model.\"\"\"\n",
    "\n",
    "    def hamiltonian(q, p):\n",
    "        \"\"\"Hamiltonian taking in q and p as 1D arrays.\"\"\"\n",
    "        q = q.reshape((1, -1))\n",
    "        p = p.reshape((1, -1))\n",
    "        x = jnp.concatenate([q, p], axis=None)\n",
    "        return model(x, afuncs)[0].reshape(())\n",
    "\n",
    "    return hamiltonian"
   ]
  },
  {
   "cell_type": "code",
   "execution_count": null,
   "metadata": {},
   "outputs": [],
   "source": [
    "# | export\n",
    "@eqx.filter_value_and_grad()\n",
    "def compute_loss(model, x, y, afuncs):\n",
    "    \"\"\"Computes hamilton's equations to get dqdp and then computes the loss\"\"\"\n",
    "    hamiltonian = hamiltonian_factory(model, afuncs)\n",
    "    q, p = jnp.split(x, 2, axis=1)\n",
    "    dHdq = jax.vmap(jax.grad(hamiltonian, argnums=0))(q, p)\n",
    "    dHdp = jax.vmap(jax.grad(hamiltonian, argnums=1))(q, p)\n",
    "    dqdp = jnp.concatenate([dHdp, -dHdq], axis=1)  # pred_y\n",
    "    loss = jnp.mean((dqdp - y) ** 2)\n",
    "\n",
    "    return loss"
   ]
  },
  {
   "cell_type": "code",
   "execution_count": null,
   "metadata": {},
   "outputs": [],
   "source": [
    "# | test\n",
    "# test compute_loss\n",
    "key = jax.random.PRNGKey(0)\n",
    "model_key, init_key = jax.random.split(key)\n",
    "x = jnp.ones((5, 2))\n",
    "\n",
    "model = MultiActMLP(2, 1, [18], model_key, bias=False)\n",
    "model = init_linear_weight(model, deterministic_init, init_key)\n",
    "y = jnp.ones((5, 2))\n",
    "\n",
    "afuncs = [lambda x: 1, lambda x: 0]\n",
    "\n",
    "loss, _ = compute_loss(model, x, y, afuncs)\n",
    "test_eq(loss, 1.0)"
   ]
  },
  {
   "cell_type": "code",
   "execution_count": null,
   "metadata": {},
   "outputs": [],
   "source": [
    "# | hide\n",
    "nbdev.nbdev_export()"
   ]
  }
 ],
 "metadata": {
  "kernelspec": {
   "display_name": "python3",
   "language": "python",
   "name": "python3"
  }
 },
 "nbformat": 4,
 "nbformat_minor": 4
}
